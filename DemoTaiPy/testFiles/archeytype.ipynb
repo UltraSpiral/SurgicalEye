{
 "cells": [
  {
   "cell_type": "code",
   "execution_count": 17,
   "metadata": {},
   "outputs": [
    {
     "data": {
      "text/plain": [
       "'The image shows a surgical table with a variety of surgical instruments. There are several pairs of scissors on the table, and a person is reaching for one of them.'"
      ]
     },
     "execution_count": 17,
     "metadata": {},
     "output_type": "execute_result"
    }
   ],
   "source": [
    "import requests\n",
    "import json\n",
    "from requests_toolbelt import MultipartEncoder\n",
    "import os\n",
    "from typing import Dict\n",
    "from typing import List\n",
    "import pprint\n",
    "\n",
    "\n",
    "def get_file_type(filename: str) -> str:\n",
    "    if filename.lower().endswith('.png'):\n",
    "        return 'image/png'\n",
    "    if filename.lower().endswith('.jpg') or filename.endswith('.jpeg'):\n",
    "        return 'image/jpeg'\n",
    "    if filename.lower().endswith('.mp4'):\n",
    "        return 'video/mp4'\n",
    "\n",
    "\n",
    "def post_files(filename: str, api_key: str) -> Dict:\n",
    "    url = 'https://api.archetypeai.dev/v0.3/files'\n",
    "    auth_headers = {\"Authorization\": f'Bearer {api_key}'}\n",
    "    with open(filename, 'rb') as file_handle:\n",
    "        encoder = MultipartEncoder({'file': (os.path.basename(filename), file_handle.read(), get_file_type(filename))})\n",
    "        response = requests.post(url, data=encoder, headers={**auth_headers, 'Content-Type': encoder.content_type})\n",
    "        response_data = response.json() if response.status_code == 200 else {}\n",
    "        return response.status_code, response_data\n",
    "\n",
    "def summarize(query: str, file_ids: List[str], api_key: str):\n",
    "    url = 'https://api.archetypeai.dev/v0.3/summarize'\n",
    "    auth_headers = {\"Authorization\": f'Bearer {api_key}'}\n",
    "    data_payload = {'query': query, 'file_ids': file_ids}\n",
    "    response = requests.post(url, data=json.dumps(data_payload), headers=auth_headers)\n",
    "    response_data = response.json() if response.status_code == 200 else {}\n",
    "    return response.status_code, response_data\n",
    "\n",
    "def describe(query: str, file_ids: List[str], api_key: str):\n",
    "    url = 'https://api.archetypeai.dev/v0.3/describe'\n",
    "    auth_headers = {\"Authorization\": f'Bearer {api_key}'}\n",
    "    data_payload = {'query': query, 'file_ids': file_ids}\n",
    "    response = requests.post(url, data=json.dumps(data_payload), headers=auth_headers)\n",
    "    response_data = response.json() if response.status_code == 200 else {}\n",
    "    return response.status_code, response_data\n",
    "\n",
    "\n",
    "post_status_code, post_response_data = post_files(\"exampleFrameVid.png\", 'gt51b6ea')\n",
    "sum_status_code, sum_response_data = summarize(\"Describe the image\", [post_response_data['file_id']], 'gt51b6ea')\n",
    "sum_response_data['response']['processed_text']\n"
   ]
  },
  {
   "cell_type": "code",
   "execution_count": 2,
   "metadata": {},
   "outputs": [
    {
     "name": "stdout",
     "output_type": "stream",
     "text": [
      "post_status_code: 200\n",
      "post_response_data: {'is_valid': True, 'file_id': 'exVid.mp4', 'file_uid': '240211708fc2a5bfd9478d'}\n",
      "sum_status_code: 200\n",
      "sum_response_data: {'query_id': '2402112e6fb16be6b2b4de', 'status': 'completed', 'inference_time_sec': 2.3126602172851562, 'query_response_time_sec': 3.0088915824890137, 'response': [{'timestamp': 2.0, 'frame_id': 60, 'description': 'The image shows a surgical table with various medical instruments and tools. There are several surgical instruments spread across the table, including scissors, a scalpel, and a pair of forceps. A person is standing near the table and appears to be preparing to perform an operation.'}, {'timestamp': 4.0, 'frame_id': 120, 'description': 'The image shows a surgical table with various surgical instruments and tools. There are several surgical instruments such as scissors, scalpels, forceps, and tweezers.'}, {'timestamp': 6.0, 'frame_id': 180, 'description': 'A surgeon is preparing surgical instruments on a table.'}, {'timestamp': 8.0, 'frame_id': 240, 'description': 'The image shows a surgical table with various surgical instruments and surgical tools. There is a person wearing a surgical glove and holding a scalpel.'}, {'timestamp': 10.0, 'frame_id': 300, 'description': 'The image shows a table with a variety of surgical instruments and tools laid out on a green cloth. There are several pairs of scissors, a pair of forceps, a scalpel, and a pair or forceps.'}, {'timestamp': 12.0, 'frame_id': 360, 'description': 'The image shows a table with a variety of surgical instruments and tools. There are surgical scissors, forceps, and tweezers arranged on the table.'}]}\n"
     ]
    }
   ],
   "source": [
    "post_status_code, post_response_data = post_files(\"exVid.mp4\", 'gt51b6ea')\n",
    "print(\"post_status_code: \" + str(post_status_code))\n",
    "print(\"post_response_data: \" + str(post_response_data))\n",
    "\n",
    "#sum_status_code, sum_response_data = summarize(\"Describe the image\", [post_response_data['file_id']], 'gt51b6ea')\n",
    "sum_status_code, sum_response_data = describe(\"Describe the image\", [post_response_data['file_id']], 'gt51b6ea')\n",
    "print(\"sum_status_code: \" + str(sum_status_code))\n",
    "print(\"sum_response_data: \" + str(sum_response_data))"
   ]
  },
  {
   "cell_type": "code",
   "execution_count": 3,
   "metadata": {},
   "outputs": [
    {
     "name": "stdout",
     "output_type": "stream",
     "text": [
      "{'query_id': '2402112e6fb16be6b2b4de', 'status': 'completed', 'inference_time_sec': 2.3126602172851562, 'query_response_time_sec': 3.0088915824890137, 'response': [{'timestamp': 2.0, 'frame_id': 60, 'description': 'The image shows a surgical table with various medical instruments and tools. There are several surgical instruments spread across the table, including scissors, a scalpel, and a pair of forceps. A person is standing near the table and appears to be preparing to perform an operation.'}, {'timestamp': 4.0, 'frame_id': 120, 'description': 'The image shows a surgical table with various surgical instruments and tools. There are several surgical instruments such as scissors, scalpels, forceps, and tweezers.'}, {'timestamp': 6.0, 'frame_id': 180, 'description': 'A surgeon is preparing surgical instruments on a table.'}, {'timestamp': 8.0, 'frame_id': 240, 'description': 'The image shows a surgical table with various surgical instruments and surgical tools. There is a person wearing a surgical glove and holding a scalpel.'}, {'timestamp': 10.0, 'frame_id': 300, 'description': 'The image shows a table with a variety of surgical instruments and tools laid out on a green cloth. There are several pairs of scissors, a pair of forceps, a scalpel, and a pair or forceps.'}, {'timestamp': 12.0, 'frame_id': 360, 'description': 'The image shows a table with a variety of surgical instruments and tools. There are surgical scissors, forceps, and tweezers arranged on the table.'}]}\n"
     ]
    }
   ],
   "source": [
    "print(sum_response_data)"
   ]
  },
  {
   "cell_type": "code",
   "execution_count": 9,
   "metadata": {},
   "outputs": [
    {
     "name": "stdout",
     "output_type": "stream",
     "text": [
      "query_id\n",
      "status\n",
      "inference_time_sec\n",
      "query_response_time_sec\n",
      "response\n"
     ]
    }
   ],
   "source": [
    "for i in sum_response_data:\n",
    "    print(i)"
   ]
  },
  {
   "cell_type": "code",
   "execution_count": 10,
   "metadata": {},
   "outputs": [
    {
     "name": "stdout",
     "output_type": "stream",
     "text": [
      "[{'timestamp': 2.0, 'frame_id': 60, 'description': 'The image shows a surgical table with various medical instruments and tools. There are several surgical instruments spread across the table, including scissors, a scalpel, and a pair of forceps. A person is standing near the table and appears to be preparing to perform an operation.'}, {'timestamp': 4.0, 'frame_id': 120, 'description': 'The image shows a surgical table with various surgical instruments and tools. There are several surgical instruments such as scissors, scalpels, forceps, and tweezers.'}, {'timestamp': 6.0, 'frame_id': 180, 'description': 'A surgeon is preparing surgical instruments on a table.'}, {'timestamp': 8.0, 'frame_id': 240, 'description': 'The image shows a surgical table with various surgical instruments and surgical tools. There is a person wearing a surgical glove and holding a scalpel.'}, {'timestamp': 10.0, 'frame_id': 300, 'description': 'The image shows a table with a variety of surgical instruments and tools laid out on a green cloth. There are several pairs of scissors, a pair of forceps, a scalpel, and a pair or forceps.'}, {'timestamp': 12.0, 'frame_id': 360, 'description': 'The image shows a table with a variety of surgical instruments and tools. There are surgical scissors, forceps, and tweezers arranged on the table.'}]\n"
     ]
    }
   ],
   "source": [
    "print(sum_response_data['response'])"
   ]
  },
  {
   "cell_type": "code",
   "execution_count": 11,
   "metadata": {},
   "outputs": [
    {
     "name": "stdout",
     "output_type": "stream",
     "text": [
      "{'timestamp': 2.0, 'frame_id': 60, 'description': 'The image shows a surgical table with various medical instruments and tools. There are several surgical instruments spread across the table, including scissors, a scalpel, and a pair of forceps. A person is standing near the table and appears to be preparing to perform an operation.'}\n",
      "{'timestamp': 4.0, 'frame_id': 120, 'description': 'The image shows a surgical table with various surgical instruments and tools. There are several surgical instruments such as scissors, scalpels, forceps, and tweezers.'}\n",
      "{'timestamp': 6.0, 'frame_id': 180, 'description': 'A surgeon is preparing surgical instruments on a table.'}\n",
      "{'timestamp': 8.0, 'frame_id': 240, 'description': 'The image shows a surgical table with various surgical instruments and surgical tools. There is a person wearing a surgical glove and holding a scalpel.'}\n",
      "{'timestamp': 10.0, 'frame_id': 300, 'description': 'The image shows a table with a variety of surgical instruments and tools laid out on a green cloth. There are several pairs of scissors, a pair of forceps, a scalpel, and a pair or forceps.'}\n",
      "{'timestamp': 12.0, 'frame_id': 360, 'description': 'The image shows a table with a variety of surgical instruments and tools. There are surgical scissors, forceps, and tweezers arranged on the table.'}\n"
     ]
    }
   ],
   "source": [
    "for i in sum_response_data['response']:\n",
    "    print(i)"
   ]
  },
  {
   "cell_type": "code",
   "execution_count": 16,
   "metadata": {},
   "outputs": [],
   "source": []
  },
  {
   "cell_type": "code",
   "execution_count": 15,
   "metadata": {},
   "outputs": [
    {
     "data": {
      "text/plain": [
       "'The image shows a surgical table with a variety of surgical instruments. There are several pairs of scissors on the table, and a person is reaching for one of them.'"
      ]
     },
     "execution_count": 15,
     "metadata": {},
     "output_type": "execute_result"
    }
   ],
   "source": []
  },
  {
   "cell_type": "code",
   "execution_count": 6,
   "metadata": {},
   "outputs": [
    {
     "ename": "KeyError",
     "evalue": "'results'",
     "output_type": "error",
     "traceback": [
      "\u001b[1;31m---------------------------------------------------------------------------\u001b[0m",
      "\u001b[1;31mKeyError\u001b[0m                                  Traceback (most recent call last)",
      "Cell \u001b[1;32mIn[6], line 1\u001b[0m\n\u001b[1;32m----> 1\u001b[0m \u001b[38;5;28mprint\u001b[39m(\u001b[38;5;28mlen\u001b[39m(\u001b[43msum_response_data\u001b[49m\u001b[43m[\u001b[49m\u001b[38;5;124;43m'\u001b[39;49m\u001b[38;5;124;43mresults\u001b[39;49m\u001b[38;5;124;43m'\u001b[39;49m\u001b[43m]\u001b[49m))\n",
      "\u001b[1;31mKeyError\u001b[0m: 'results'"
     ]
    }
   ],
   "source": [
    "print(len(sum_response_data['results']))"
   ]
  },
  {
   "cell_type": "code",
   "execution_count": 7,
   "metadata": {},
   "outputs": [
    {
     "name": "stdout",
     "output_type": "stream",
     "text": [
      "No results found\n"
     ]
    }
   ],
   "source": [
    "if 'results' in sum_response_data:\n",
    "    for i in sum_response_data['results']:\n",
    "        print('n/')\n",
    "        try:\n",
    "            pprint(i['description'])\n",
    "        except KeyError as e:\n",
    "            print('No description found')\n",
    "\n",
    "        print('n/')\n",
    "else:\n",
    "    print('No results found')"
   ]
  },
  {
   "cell_type": "code",
   "execution_count": null,
   "metadata": {},
   "outputs": [],
   "source": []
  }
 ],
 "metadata": {
  "kernelspec": {
   "display_name": "Python 3 (ipykernel)",
   "language": "python",
   "name": "python3"
  },
  "language_info": {
   "codemirror_mode": {
    "name": "ipython",
    "version": 3
   },
   "file_extension": ".py",
   "mimetype": "text/x-python",
   "name": "python",
   "nbconvert_exporter": "python",
   "pygments_lexer": "ipython3",
   "version": "3.9.18"
  }
 },
 "nbformat": 4,
 "nbformat_minor": 2
}
