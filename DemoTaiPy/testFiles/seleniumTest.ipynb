{
 "cells": [
  {
   "cell_type": "code",
   "execution_count": 3,
   "metadata": {},
   "outputs": [],
   "source": [
    "import chromedriver_autoinstaller\n",
    "from selenium import webdriver\n",
    "from selenium.webdriver.common.by import By\n",
    "from selenium.webdriver.common.keys import Keys\n",
    "import time\n",
    "from selenium.webdriver.support.ui import WebDriverWait\n",
    "from selenium.webdriver.support import expected_conditions as EC\n",
    "\n",
    "\n",
    "opt = webdriver.ChromeOptions()\n",
    "opt.add_argument(\"--start-maximized\")"
   ]
  },
  {
   "cell_type": "code",
   "execution_count": 4,
   "metadata": {},
   "outputs": [],
   "source": [
    "chromedriver_autoinstaller.install()\n",
    "driver = webdriver.Chrome(options=opt)\n",
    "\n",
    "driver.get(\"https://audiobox.metademolab.com/capabilities/tts_description_condition\")"
   ]
  },
  {
   "cell_type": "code",
   "execution_count": 5,
   "metadata": {},
   "outputs": [],
   "source": [
    "#This is for the consent forms\n",
    "\n",
    "checkbox_xpath = \"/html/body/div/div[3]/div/div/div[2]/div/input\"\n",
    "button_xpath = \"/html/body/div/div[3]/div/div/div[3]/button\"\n",
    "checkbox = WebDriverWait(driver, 10).until(\n",
    "    EC.visibility_of_element_located((By.XPATH, checkbox_xpath))\n",
    ")\n",
    "\n",
    "# Check if the checkbox is not already checked, then click it\n",
    "if not checkbox.is_selected():\n",
    "    checkbox.click()\n",
    "\n",
    "# Locate the button and click it\n",
    "button = WebDriverWait(driver, 10).until(\n",
    "    EC.element_to_be_clickable((By.XPATH, button_xpath))\n",
    ")\n",
    "button.click()"
   ]
  },
  {
   "cell_type": "code",
   "execution_count": null,
   "metadata": {},
   "outputs": [],
   "source": [
    "#This is for the cookies\n",
    "button_xpath = \"/html/body/div/div[1]/div/div[2]/button[2]\"\n",
    "button = WebDriverWait(driver, 10).until(\n",
    "    EC.element_to_be_clickable((By.XPATH, button_xpath))\n",
    ")\n",
    "button.click()"
   ]
  },
  {
   "cell_type": "code",
   "execution_count": 12,
   "metadata": {},
   "outputs": [],
   "source": [
    "#This is for actual text info\n",
    "#time.sleep(3)\n",
    "# Find the first textarea element and input text\n",
    "first_textarea_xpath = \"/html/body/div[1]/div[1]/div[2]/div/div[2]/div[2]/div/div[1]/div/div[2]/div/div/div[1]/div[1]/div[1]/textarea\"\n",
    "first_textarea_element = driver.find_element(By.XPATH, first_textarea_xpath)\n",
    "first_textarea_element.clear()\n",
    "first_textarea_element.send_keys(\"The scalpel in the video is cutting the carotid artery to clean out build\")\n",
    "\n"
   ]
  },
  {
   "cell_type": "code",
   "execution_count": 22,
   "metadata": {},
   "outputs": [],
   "source": [
    "# Find the second textarea element and input text\n",
    "second_textarea_xpath = \"/html/body/div[1]/div[1]/div[2]/div/div[2]/div[2]/div/div[1]/div/div[2]/div/div/div[1]/div[2]/div[1]/textarea\"\n",
    "second_textarea_element = driver.find_element(By.XPATH, second_textarea_xpath)\n",
    "second_textarea_element.clear()\n",
    "second_textarea_element.send_keys(\"Act like a doctor who is teaching information in a clear yet strong instructor voice\")\n"
   ]
  },
  {
   "cell_type": "code",
   "execution_count": 14,
   "metadata": {},
   "outputs": [],
   "source": [
    "\n",
    "# Assume the button you want to click is identifiable by a unique attribute (e.g., an ID, name, or specific XPath)\n",
    "# Since the actual button was not specified, here is a generic approach to click a button by its XPath\n",
    "button_xpath = \"/html/body/div/div[1]/div[2]/div/div[2]/div[2]/div/div[1]/div/div[2]/div/div/div[2]/button[1]\"\n",
    "button_element = driver.find_element(By.XPATH, button_xpath)\n",
    "button_element.click()\n"
   ]
  },
  {
   "cell_type": "code",
   "execution_count": 15,
   "metadata": {},
   "outputs": [],
   "source": [
    "target_element_xpath = \"/html/body/div/div[2]/div[2]/div/div/div[2]/div[2]/div/div[2]/div[1]/div[1]/div[2]/svg/path\"\n"
   ]
  },
  {
   "cell_type": "code",
   "execution_count": 20,
   "metadata": {},
   "outputs": [],
   "source": [
    "downloadMusic = \"/html/body/div/div[2]/div[2]/div/div/div[2]/div[2]/div/div[2]/div[1]/div[1]/div[2]\""
   ]
  },
  {
   "cell_type": "code",
   "execution_count": 19,
   "metadata": {},
   "outputs": [
    {
     "ename": "TimeoutException",
     "evalue": "Message: \nStacktrace:\n\tGetHandleVerifier [0x011B1673+52979]\n\t(No symbol) [0x01137961]\n\t(No symbol) [0x0101DD3D]\n\t(No symbol) [0x01055FBB]\n\t(No symbol) [0x010560FB]\n\t(No symbol) [0x0108CF92]\n\t(No symbol) [0x01074534]\n\t(No symbol) [0x0108B3FE]\n\t(No symbol) [0x01074286]\n\t(No symbol) [0x0104C063]\n\t(No symbol) [0x0104CECD]\n\tGetHandleVerifier [0x014C8D83+3294723]\n\tGetHandleVerifier [0x01506CC2+3548482]\n\tGetHandleVerifier [0x01501C9C+3527964]\n\tGetHandleVerifier [0x0124870E+671630]\n\t(No symbol) [0x01141EB4]\n\t(No symbol) [0x0113D808]\n\t(No symbol) [0x0113D92D]\n\t(No symbol) [0x0112F7E0]\n\tBaseThreadInitThunk [0x76837BA9+25]\n\tRtlInitializeExceptionChain [0x77BDBD2B+107]\n\tRtlClearBits [0x77BDBCAF+191]\n",
     "output_type": "error",
     "traceback": [
      "\u001b[1;31m---------------------------------------------------------------------------\u001b[0m",
      "\u001b[1;31mTimeoutException\u001b[0m                          Traceback (most recent call last)",
      "Cell \u001b[1;32mIn[19], line 1\u001b[0m\n\u001b[1;32m----> 1\u001b[0m element_to_click \u001b[38;5;241m=\u001b[39m \u001b[43mWebDriverWait\u001b[49m\u001b[43m(\u001b[49m\u001b[43mdriver\u001b[49m\u001b[43m,\u001b[49m\u001b[43m \u001b[49m\u001b[38;5;241;43m10\u001b[39;49m\u001b[43m)\u001b[49m\u001b[38;5;241;43m.\u001b[39;49m\u001b[43muntil\u001b[49m\u001b[43m(\u001b[49m\n\u001b[0;32m      2\u001b[0m \u001b[43m    \u001b[49m\u001b[43mEC\u001b[49m\u001b[38;5;241;43m.\u001b[39;49m\u001b[43melement_to_be_clickable\u001b[49m\u001b[43m(\u001b[49m\u001b[43m(\u001b[49m\u001b[43mBy\u001b[49m\u001b[38;5;241;43m.\u001b[39;49m\u001b[43mXPATH\u001b[49m\u001b[43m,\u001b[49m\u001b[43m \u001b[49m\u001b[43mtarget_element_xpath\u001b[49m\u001b[43m)\u001b[49m\u001b[43m)\u001b[49m\n\u001b[0;32m      3\u001b[0m \u001b[43m)\u001b[49m\n\u001b[0;32m      5\u001b[0m \u001b[38;5;66;03m# Click the element\u001b[39;00m\n\u001b[0;32m      6\u001b[0m element_to_click\u001b[38;5;241m.\u001b[39mclick()\n",
      "File \u001b[1;32m~\\Anaconda3\\lib\\site-packages\\selenium\\webdriver\\support\\wait.py:95\u001b[0m, in \u001b[0;36mWebDriverWait.until\u001b[1;34m(self, method, message)\u001b[0m\n\u001b[0;32m     93\u001b[0m     \u001b[38;5;28;01mif\u001b[39;00m time\u001b[38;5;241m.\u001b[39mmonotonic() \u001b[38;5;241m>\u001b[39m end_time:\n\u001b[0;32m     94\u001b[0m         \u001b[38;5;28;01mbreak\u001b[39;00m\n\u001b[1;32m---> 95\u001b[0m \u001b[38;5;28;01mraise\u001b[39;00m TimeoutException(message, screen, stacktrace)\n",
      "\u001b[1;31mTimeoutException\u001b[0m: Message: \nStacktrace:\n\tGetHandleVerifier [0x011B1673+52979]\n\t(No symbol) [0x01137961]\n\t(No symbol) [0x0101DD3D]\n\t(No symbol) [0x01055FBB]\n\t(No symbol) [0x010560FB]\n\t(No symbol) [0x0108CF92]\n\t(No symbol) [0x01074534]\n\t(No symbol) [0x0108B3FE]\n\t(No symbol) [0x01074286]\n\t(No symbol) [0x0104C063]\n\t(No symbol) [0x0104CECD]\n\tGetHandleVerifier [0x014C8D83+3294723]\n\tGetHandleVerifier [0x01506CC2+3548482]\n\tGetHandleVerifier [0x01501C9C+3527964]\n\tGetHandleVerifier [0x0124870E+671630]\n\t(No symbol) [0x01141EB4]\n\t(No symbol) [0x0113D808]\n\t(No symbol) [0x0113D92D]\n\t(No symbol) [0x0112F7E0]\n\tBaseThreadInitThunk [0x76837BA9+25]\n\tRtlInitializeExceptionChain [0x77BDBD2B+107]\n\tRtlClearBits [0x77BDBCAF+191]\n"
     ]
    }
   ],
   "source": [
    "element_to_click = WebDriverWait(driver, 10).until(\n",
    "    EC.element_to_be_clickable((By.XPATH, downloadMusic))\n",
    ")\n",
    "\n",
    "# Click the element\n",
    "element_to_click.click()"
   ]
  },
  {
   "cell_type": "code",
   "execution_count": 23,
   "metadata": {},
   "outputs": [],
   "source": [
    "driver.quit()"
   ]
  },
  {
   "cell_type": "code",
   "execution_count": 5,
   "metadata": {},
   "outputs": [],
   "source": [
    "import chromedriver_autoinstaller\n",
    "from selenium import webdriver\n",
    "from selenium.webdriver.common.by import By\n",
    "from selenium.webdriver.support.ui import WebDriverWait\n",
    "from selenium.webdriver.support import expected_conditions as EC\n",
    "\n",
    "\n",
    "def setup_driver():\n",
    "    \"\"\"Setup Chrome webdriver.\"\"\"\n",
    "    chromedriver_autoinstaller.install()\n",
    "    options = webdriver.ChromeOptions()\n",
    "    options.add_argument(\"--start-maximized\")\n",
    "    driver = webdriver.Chrome(options=options)\n",
    "    return driver\n",
    "\n",
    "\n",
    "def navigate_to_page(driver, url):\n",
    "    \"\"\"Navigate to a specific page.\"\"\"\n",
    "    try:\n",
    "        driver.get(url)\n",
    "    except Exception as e:\n",
    "        print(f\"Failed to navigate: {e}\")\n",
    "        driver.quit()\n",
    "        raise\n",
    "\n",
    "\n",
    "def wait_for_element_and_click(driver, xpath):\n",
    "    \"\"\"Wait for an element to be clickable and click.\"\"\"\n",
    "    try:\n",
    "        element = WebDriverWait(driver, 10).until(\n",
    "            EC.element_to_be_clickable((By.XPATH, xpath))\n",
    "        )\n",
    "        element.click()\n",
    "    except Exception as e:\n",
    "        print(f\"Failed to wait for element and click: {e}\")\n",
    "        driver.quit()\n",
    "        raise\n",
    "\n",
    "\n",
    "def check_and_click_checkbox(driver, checkbox_xpath):\n",
    "    \"\"\"Check if a checkbox is present and click.\"\"\"\n",
    "    try:\n",
    "        checkbox = WebDriverWait(driver, 10).until(\n",
    "            EC.visibility_of_element_located((By.XPATH, checkbox_xpath))\n",
    "        )\n",
    "        if not checkbox.is_selected():\n",
    "            checkbox.click()\n",
    "    except Exception as e:\n",
    "        print(f\"Failed to check and click checkbox: {e}\")\n",
    "        driver.quit()\n",
    "        raise\n",
    "\n",
    "def check_clear_inputText(driver, checkbox_xpath, text):\n",
    "    \"\"\"Check if a checkbox is present and click.\"\"\"\n",
    "    try:\n",
    "        textInput = WebDriverWait(driver, 10).until(\n",
    "            EC.visibility_of_element_located((By.XPATH, checkbox_xpath))\n",
    "        )\n",
    "        textInput.clear()\n",
    "        textInput.send_keys(text)\n",
    "\n",
    "    except Exception as e:\n",
    "        print(f\"Failed to checkclear and send text: {e}\")\n",
    "        driver.quit()\n",
    "        raise"
   ]
  },
  {
   "cell_type": "code",
   "execution_count": 2,
   "metadata": {},
   "outputs": [],
   "source": [
    "driver = setup_driver()\n",
    "navigate_to_page(driver, \"https://audiobox.metademolab.com/capabilities/tts_description_condition\")"
   ]
  },
  {
   "cell_type": "code",
   "execution_count": 3,
   "metadata": {},
   "outputs": [],
   "source": [
    "# This is for the consent forms\n",
    "check_and_click_checkbox(driver, \"/html/body/div/div[3]/div/div/div[2]/div/input\")\n",
    "wait_for_element_and_click(driver, \"/html/body/div/div[3]/div/div/div[3]/button\")"
   ]
  },
  {
   "cell_type": "code",
   "execution_count": 4,
   "metadata": {},
   "outputs": [],
   "source": [
    "wait_for_element_and_click(driver, \"/html/body/div/div[1]/div/div[2]/button[2]\")"
   ]
  },
  {
   "cell_type": "code",
   "execution_count": 12,
   "metadata": {},
   "outputs": [],
   "source": [
    "description = \"The scalpel in the video is cutting the carotid artery to clean out build\"\n",
    "check_clear_inputText(driver, \"/html/body/div[1]/div[1]/div[2]/div/div[2]/div[2]/div/div[1]/div/div[2]/div/div/div[1]/div[1]/div[1]/textarea\", description)"
   ]
  },
  {
   "cell_type": "code",
   "execution_count": 13,
   "metadata": {},
   "outputs": [],
   "source": [
    "styleSpeech = \"Act like a doctor who is teaching information in a clear yet strong instructor voice\"\n",
    "check_clear_inputText(driver, \"/html/body/div[1]/div[1]/div[2]/div/div[2]/div[2]/div/div[1]/div/div[2]/div/div/div[1]/div[2]/div[1]/textarea\", styleSpeech)"
   ]
  },
  {
   "cell_type": "code",
   "execution_count": 14,
   "metadata": {},
   "outputs": [],
   "source": [
    "wait_for_element_and_click(driver, \"/html/body/div/div[1]/div[2]/div/div[2]/div[2]/div/div[1]/div/div[2]/div/div/div[2]/button[1]\")"
   ]
  },
  {
   "cell_type": "code",
   "execution_count": 15,
   "metadata": {},
   "outputs": [],
   "source": [
    "wait_for_element_and_click(driver, \"/html/body/div/div[2]/div[2]/div/div/div[2]/div[2]/div/div[2]/div[1]/div[1]/div[2]\")"
   ]
  },
  {
   "cell_type": "code",
   "execution_count": null,
   "metadata": {},
   "outputs": [],
   "source": []
  }
 ],
 "metadata": {
  "kernelspec": {
   "display_name": "Python 3 (ipykernel)",
   "language": "python",
   "name": "python3"
  },
  "language_info": {
   "codemirror_mode": {
    "name": "ipython",
    "version": 3
   },
   "file_extension": ".py",
   "mimetype": "text/x-python",
   "name": "python",
   "nbconvert_exporter": "python",
   "pygments_lexer": "ipython3",
   "version": "3.9.18"
  }
 },
 "nbformat": 4,
 "nbformat_minor": 2
}
